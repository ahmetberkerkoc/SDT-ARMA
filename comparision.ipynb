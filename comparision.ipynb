{
 "cells": [
  {
   "cell_type": "code",
   "execution_count": 2,
   "metadata": {},
   "outputs": [],
   "source": [
    "import pandas as pd \n",
    "import numpy as np\n",
    "import matplotlib.pyplot as plt\n",
    "import lightgbm\n",
    "import xgboost\n",
    "import catboost\n",
    "\n",
    "from sklearn.metrics import mean_absolute_error as mae\n",
    "from sklearn.metrics import mean_squared_error as mse\n"
   ]
  },
  {
   "cell_type": "code",
   "execution_count": 3,
   "metadata": {},
   "outputs": [],
   "source": [
    "def MAPE(y_test, pred):\n",
    "    mape = np.mean(np.abs((y_test - pred) / y_test))\n",
    "    return mape"
   ]
  },
  {
   "cell_type": "code",
   "execution_count": null,
   "metadata": {},
   "outputs": [],
   "source": [
    "data_path = "
   ]
  },
  {
   "cell_type": "code",
   "execution_count": null,
   "metadata": {},
   "outputs": [],
   "source": [
    "df = pd.read_csv(f\"Dataset/Extracted_M4/{i}_M4_{m4_type}.csv\")\n",
    "df = df.drop(\"Unnamed: 0\",axis=1)\n",
    "\n",
    "y = df.loc[:,\"y\"]\n",
    "X = df.iloc[:,1:]\n",
    "\n",
    "X_train, X_test = X.iloc[:-forecast_horizion], X.iloc[-forecast_horizion:]\n",
    "y_train, y_test = y.iloc[:-forecast_horizion], y.iloc[-forecast_horizion:]\n",
    "\n",
    "regressor =  xgb.XGBRegressor(\n",
    "                                random_state = 0, \n",
    "                                n_estimators=200,\n",
    "                                max_depth=10,\n",
    "                                max_leaves=255,\n",
    "                                colsample_bytree=0.4,\n",
    "                                subsample=0.9,\n",
    "                                subsample_freq=20,\n",
    "                                max_bin=255,\n",
    "                                learning_rate=0.05, #0.06\n",
    "    )\n",
    "regressor.fit(X_train, y_train)\n",
    "pred = regressor.predict(X_test)\n",
    "y_test_np = y_test.to_numpy()\n",
    "\n",
    "\n",
    "    \n",
    "mse_score = mse(y_test_np,pred)\n",
    "mae_score = mae(y_test_np,pred)\n",
    "mape_score = MAPE(y_test_np,pred)\n",
    "\n"
   ]
  }
 ],
 "metadata": {
  "kernelspec": {
   "display_name": "Python 3",
   "language": "python",
   "name": "python3"
  },
  "language_info": {
   "codemirror_mode": {
    "name": "ipython",
    "version": 3
   },
   "file_extension": ".py",
   "mimetype": "text/x-python",
   "name": "python",
   "nbconvert_exporter": "python",
   "pygments_lexer": "ipython3",
   "version": "3.10.8"
  }
 },
 "nbformat": 4,
 "nbformat_minor": 2
}
