{
 "cells": [
  {
   "cell_type": "code",
   "execution_count": 2,
   "metadata": {},
   "outputs": [],
   "source": [
    "import pandas as pd \n",
    "import numpy as np\n",
    "import matplotlib.pyplot as plt\n",
    "import random"
   ]
  },
  {
   "cell_type": "markdown",
   "metadata": {},
   "source": [
    "# Reproduciblity"
   ]
  },
  {
   "cell_type": "code",
   "execution_count": 3,
   "metadata": {},
   "outputs": [],
   "source": [
    "reproduciblity = True\n",
    "if reproduciblity:\n",
    "    random.seed(10)"
   ]
  },
  {
   "cell_type": "markdown",
   "metadata": {},
   "source": [
    "# Read Data"
   ]
  },
  {
   "cell_type": "code",
   "execution_count": null,
   "metadata": {},
   "outputs": [],
   "source": [
    "TWO_DATA_FILE = True"
   ]
  },
  {
   "cell_type": "code",
   "execution_count": 13,
   "metadata": {},
   "outputs": [],
   "source": [
    "if TWO_DATA_FILE: \n",
    "    train_data_path = \"\"\n",
    "    test_data_path = \"\"\n",
    "else:\n",
    "    combined_data_path = \"\""
   ]
  },
  {
   "cell_type": "code",
   "execution_count": 14,
   "metadata": {},
   "outputs": [],
   "source": [
    "if TWO_DATA_FILE:\n",
    "    df_train = pd.read_csv(train_data_path,index_col=0)\n",
    "    df_test = pd.read_csv(test_data_path,index_col=0)\n",
    "else:\n",
    "    combined_data = pd.read_csv(combined_data_path,index_col=0)"
   ]
  },
  {
   "cell_type": "markdown",
   "metadata": {},
   "source": [
    "# Set Time Resolution \n",
    "It is important to extract mostly used features for chosen time resolution but it is only a recommendation "
   ]
  },
  {
   "cell_type": "code",
   "execution_count": 17,
   "metadata": {},
   "outputs": [],
   "source": [
    "time_resolution = \"Hourly\""
   ]
  },
  {
   "cell_type": "markdown",
   "metadata": {},
   "source": [
    "# Feature Extractor"
   ]
  },
  {
   "cell_type": "code",
   "execution_count": 25,
   "metadata": {},
   "outputs": [],
   "source": [
    "def feature_extractor(data):\n",
    "    data.loc[:,\"y-1\"] = data.loc[:,\"y\"].shift(1)\n",
    "    data.loc[:,\"y-2\"] = data.loc[:,\"y\"].shift(2)\n",
    "    data.loc[:,\"y-3\"] = data.loc[:,\"y\"].shift(3)\n",
    "    \n",
    "    if time_resolution == \"Hourly\":\n",
    "        data.loc[:,\"y-24\"] = data.loc[:,\"y\"].shift(24)\n",
    "        data.loc[:,\"y-36\"] = data.loc[:,\"y\"].shift(36)\n",
    "        data.loc[:,\"y-48\"] = data.loc[:,\"y\"].shift(48)\n",
    "        \n",
    "        \n",
    "        data.loc[:,\"y-1_rolling_mean_4\"] = data.loc[:,\"y-1\"].rolling(4).mean()\n",
    "        data.loc[:,\"y-1_rolling_std_4\"] = data.loc[:,\"y-1\"].rolling(4).std()\n",
    "\n",
    "        data.loc[:,\"y-1_rolling_mean_7\"] = data.loc[:,\"y-1\"].rolling(12).mean()\n",
    "        data.loc[:,\"y-1_rolling_std_7\"] = data.loc[:,\"y-1\"].rolling(12).std()\n",
    "\n",
    "        data.loc[:,\"y-1_rolling_mean_28\"] = data.loc[:,\"y-1\"].rolling(24).mean()\n",
    "        data.loc[:,\"y-1_rolling_std_28\"] = data.loc[:,\"y-1\"].rolling(24).std()\n",
    "        \n",
    "        \n",
    "        data.loc[:,\"y-24_rolling_mean_4\"] = data.loc[:,\"y-24\"].rolling(4).mean()\n",
    "        data.loc[:,\"y-24_rolling_std_4\"] = data.loc[:,\"y-24\"].rolling(4).std()\n",
    "\n",
    "        data.loc[:,\"y-24_rolling_mean_7\"] = data.loc[:,\"y-24\"].rolling(12).mean()\n",
    "        data.loc[:,\"y-24_rolling_std_7\"] = data.loc[:,\"y-24\"].rolling(12).std()\n",
    "\n",
    "        data.loc[:,\"y-24_rolling_mean_28\"] = data.loc[:,\"y-24\"].rolling(24).mean()\n",
    "        data.loc[:,\"y-24_rolling_std_28\"] = data.loc[:,\"y-24\"].rolling(24).std()\n",
    "        \n",
    "        \n",
    "        \n",
    "    if time_resolution == \"Weekly\":\n",
    "    \n",
    "        data.loc[:,\"y-4\"] = data.loc[:,\"y\"].shift(4)\n",
    "        data.loc[:,\"y-52\"] = data.loc[:,\"y\"].shift(52)\n",
    "        \n",
    "        \n",
    "        data.loc[:,\"y-1_rolling_mean_4\"] = data.loc[:,\"y-1\"].rolling(4).mean()\n",
    "        data.loc[:,\"y-1_rolling_std_4\"] = data.loc[:,\"y-1\"].rolling(4).std()\n",
    "\n",
    "        data.loc[:,\"y-1_rolling_mean_12\"] = data.loc[:,\"y-1\"].rolling(12).mean()\n",
    "        data.loc[:,\"y-1_rolling_std_12\"] = data.loc[:,\"y-1\"].rolling(12).std()\n",
    "        \n",
    "        \n",
    "\n",
    "    if time_resolution == \"Daily\":\n",
    "        \n",
    "        data.loc[:,\"y-7\"] = data.loc[:,\"y\"].shift(7)\n",
    "        data.loc[:,\"y-14\"] = data.loc[:,\"y\"].shift(14)\n",
    "        data.loc[:,\"y-28\"] = data.loc[:,\"y\"].shift(28)\n",
    "        \n",
    "    \n",
    "        data.loc[:,\"y-1_rolling_mean_4\"] = data.loc[:,\"y-1\"].rolling(4).mean()\n",
    "        data.loc[:,\"y-1_rolling_std_4\"] = data.loc[:,\"y-1\"].rolling(4).std()\n",
    "\n",
    "        data.loc[:,\"y-1_rolling_mean_7\"] = data.loc[:,\"y-1\"].rolling(7).mean()\n",
    "        data.loc[:,\"y-1_rolling_std_7\"] = data.loc[:,\"y-1\"].rolling(7).std()\n",
    "\n",
    "        data.loc[:,\"y-1_rolling_mean_28\"] = data.loc[:,\"y-1\"].rolling(28).mean()\n",
    "        data.loc[:,\"y-1_rolling_std_28\"] = data.loc[:,\"y-1\"].rolling(28).std()\n",
    "        \n",
    "        \n",
    "        data.loc[:,\"y-2_rolling_mean_4\"] = data.loc[:,\"y-2\"].rolling(4).mean()\n",
    "        data.loc[:,\"y-2_rolling_std_4\"] = data.loc[:,\"y-2\"].rolling(4).std()\n",
    "\n",
    "        data.loc[:,\"y-2_rolling_mean_7\"] = data.loc[:,\"y-2\"].rolling(7).mean()\n",
    "        data.loc[:,\"y-2_rolling_std_7\"] = data.loc[:,\"y-2\"].rolling(7).std()\n",
    "\n",
    "        data.loc[:,\"y-2_rolling_mean_28\"] = data.loc[:,\"y-2\"].rolling(28).mean()\n",
    "        data.loc[:,\"y-2_rolling_std_28\"] = data.loc[:,\"y-2\"].rolling(28).std()\n",
    "        \n",
    "    data = data.dropna()\n",
    "    \n",
    "    data.index = np.arange(len(data))\n",
    "    return data"
   ]
  },
  {
   "cell_type": "markdown",
   "metadata": {},
   "source": [
    "Combine train and test data to extract features by one pass"
   ]
  },
  {
   "cell_type": "code",
   "execution_count": 23,
   "metadata": {},
   "outputs": [],
   "source": [
    "if TWO_DATA_FILE:\n",
    "    combined_data = pd.concat([df_train,df_test])"
   ]
  },
  {
   "cell_type": "markdown",
   "metadata": {},
   "source": [
    "# Extract Features"
   ]
  },
  {
   "cell_type": "code",
   "execution_count": 26,
   "metadata": {},
   "outputs": [],
   "source": [
    "new_data = feature_extractor(combined_data)"
   ]
  },
  {
   "cell_type": "markdown",
   "metadata": {},
   "source": [
    "# Save Data"
   ]
  },
  {
   "cell_type": "code",
   "execution_count": 32,
   "metadata": {},
   "outputs": [],
   "source": [
    "new_data.to_csv(\"new_data.csv\")"
   ]
  }
 ],
 "metadata": {
  "kernelspec": {
   "display_name": "Python 3",
   "language": "python",
   "name": "python3"
  },
  "language_info": {
   "codemirror_mode": {
    "name": "ipython",
    "version": 3
   },
   "file_extension": ".py",
   "mimetype": "text/x-python",
   "name": "python",
   "nbconvert_exporter": "python",
   "pygments_lexer": "ipython3",
   "version": "3.9.4"
  },
  "orig_nbformat": 4,
  "vscode": {
   "interpreter": {
    "hash": "7573df025923be38947a4699923c7a6d4093ad44f3cf314b87d19677c230161d"
   }
  }
 },
 "nbformat": 4,
 "nbformat_minor": 2
}
